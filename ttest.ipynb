{
 "cells": [
  {
   "cell_type": "code",
   "execution_count": null,
   "outputs": [],
   "source": [
    "import numpy as np\n",
    "import scipy.stats as sps\n",
    "import pandas as pd\n",
    "from statsmodels.stats.proportion import confint_proportions_2indep\n",
    "\n",
    "import matplotlib.pyplot as plt\n",
    "import seaborn as sns\n",
    "sns.set(font_scale=1.3)\n",
    "\n",
    "import warnings\n",
    "warnings.filterwarnings(\"ignore\")"
   ],
   "metadata": {
    "collapsed": false,
    "pycharm": {
     "name": "#%%\n",
     "is_executing": true
    }
   }
  },
  {
   "cell_type": "markdown",
   "metadata": {
    "pycharm": {
     "name": "#%% md\n"
    }
   },
   "source": [
    "Компания разработала новую веб-страницу, чтобы попытаться увеличить конверсию, то есть долю пользователей, которые решают оформить подписку и заплатить за продукт компании. Изменение решили проверить с помощью АБ-тестирования, случайно поделив пользователей на группы. Наша цель &mdash; помочь компании понять, следует ли им внедрить эту новую страницу или сохранить старую страницу."
   ]
  },
  {
   "cell_type": "code",
   "execution_count": 7,
   "metadata": {
    "pycharm": {
     "name": "#%%\n"
    }
   },
   "outputs": [
    {
     "data": {
      "text/html": [
       "<div>\n",
       "<style scoped>\n",
       "    .dataframe tbody tr th:only-of-type {\n",
       "        vertical-align: middle;\n",
       "    }\n",
       "\n",
       "    .dataframe tbody tr th {\n",
       "        vertical-align: top;\n",
       "    }\n",
       "\n",
       "    .dataframe thead th {\n",
       "        text-align: right;\n",
       "    }\n",
       "</style>\n",
       "<table border=\"1\" class=\"dataframe\">\n",
       "  <thead>\n",
       "    <tr style=\"text-align: right;\">\n",
       "      <th></th>\n",
       "      <th>user_id</th>\n",
       "      <th>timestamp</th>\n",
       "      <th>group</th>\n",
       "      <th>landing_page</th>\n",
       "      <th>converted</th>\n",
       "    </tr>\n",
       "  </thead>\n",
       "  <tbody>\n",
       "    <tr>\n",
       "      <th>0</th>\n",
       "      <td>851104</td>\n",
       "      <td>11:48.6</td>\n",
       "      <td>control</td>\n",
       "      <td>old_page</td>\n",
       "      <td>0</td>\n",
       "    </tr>\n",
       "    <tr>\n",
       "      <th>1</th>\n",
       "      <td>804228</td>\n",
       "      <td>01:45.2</td>\n",
       "      <td>control</td>\n",
       "      <td>old_page</td>\n",
       "      <td>0</td>\n",
       "    </tr>\n",
       "    <tr>\n",
       "      <th>2</th>\n",
       "      <td>661590</td>\n",
       "      <td>55:06.2</td>\n",
       "      <td>treatment</td>\n",
       "      <td>new_page</td>\n",
       "      <td>0</td>\n",
       "    </tr>\n",
       "    <tr>\n",
       "      <th>3</th>\n",
       "      <td>853541</td>\n",
       "      <td>28:03.1</td>\n",
       "      <td>treatment</td>\n",
       "      <td>new_page</td>\n",
       "      <td>0</td>\n",
       "    </tr>\n",
       "    <tr>\n",
       "      <th>4</th>\n",
       "      <td>864975</td>\n",
       "      <td>52:26.2</td>\n",
       "      <td>control</td>\n",
       "      <td>old_page</td>\n",
       "      <td>1</td>\n",
       "    </tr>\n",
       "    <tr>\n",
       "      <th>...</th>\n",
       "      <td>...</td>\n",
       "      <td>...</td>\n",
       "      <td>...</td>\n",
       "      <td>...</td>\n",
       "      <td>...</td>\n",
       "    </tr>\n",
       "    <tr>\n",
       "      <th>294475</th>\n",
       "      <td>734608</td>\n",
       "      <td>45:03.4</td>\n",
       "      <td>control</td>\n",
       "      <td>old_page</td>\n",
       "      <td>0</td>\n",
       "    </tr>\n",
       "    <tr>\n",
       "      <th>294476</th>\n",
       "      <td>697314</td>\n",
       "      <td>20:29.0</td>\n",
       "      <td>control</td>\n",
       "      <td>old_page</td>\n",
       "      <td>0</td>\n",
       "    </tr>\n",
       "    <tr>\n",
       "      <th>294477</th>\n",
       "      <td>715931</td>\n",
       "      <td>40:24.5</td>\n",
       "      <td>treatment</td>\n",
       "      <td>new_page</td>\n",
       "      <td>0</td>\n",
       "    </tr>\n",
       "    <tr>\n",
       "      <th>294478</th>\n",
       "      <td>759899</td>\n",
       "      <td>20:29.0</td>\n",
       "      <td>treatment</td>\n",
       "      <td>new_page</td>\n",
       "      <td>0</td>\n",
       "    </tr>\n",
       "    <tr>\n",
       "      <th>294479</th>\n",
       "      <td>643532</td>\n",
       "      <td>40:24.5</td>\n",
       "      <td>treatment</td>\n",
       "      <td>new_page</td>\n",
       "      <td>0</td>\n",
       "    </tr>\n",
       "  </tbody>\n",
       "</table>\n",
       "<p>294480 rows × 5 columns</p>\n",
       "</div>"
      ],
      "text/plain": [
       "        user_id timestamp      group landing_page  converted\n",
       "0        851104   11:48.6    control     old_page          0\n",
       "1        804228   01:45.2    control     old_page          0\n",
       "2        661590   55:06.2  treatment     new_page          0\n",
       "3        853541   28:03.1  treatment     new_page          0\n",
       "4        864975   52:26.2    control     old_page          1\n",
       "...         ...       ...        ...          ...        ...\n",
       "294475   734608   45:03.4    control     old_page          0\n",
       "294476   697314   20:29.0    control     old_page          0\n",
       "294477   715931   40:24.5  treatment     new_page          0\n",
       "294478   759899   20:29.0  treatment     new_page          0\n",
       "294479   643532   40:24.5  treatment     new_page          0\n",
       "\n",
       "[294480 rows x 5 columns]"
      ]
     },
     "execution_count": 7,
     "metadata": {},
     "output_type": "execute_result"
    }
   ],
   "source": [
    "data = pd.read_csv('ab_data.csv')\n",
    "data"
   ]
  },
  {
   "cell_type": "markdown",
   "metadata": {
    "pycharm": {
     "name": "#%% md\n"
    }
   },
   "source": [
    "Посмотрим на соотношение групп."
   ]
  },
  {
   "cell_type": "code",
   "execution_count": 8,
   "metadata": {
    "pycharm": {
     "name": "#%%\n"
    }
   },
   "outputs": [
    {
     "name": "stdout",
     "output_type": "stream",
     "text": [
      "Доля тестовой выборки от всех данных: 0.5\n",
      "Доля контрольной выборки от всех данных: 0.5\n"
     ]
    }
   ],
   "source": [
    "treatment = data[data['group'] == 'treatment']\n",
    "control = data[data['group'] == 'control']\n",
    "print(f'Доля тестовой выборки от всех данных: {np.round(len(treatment) / len(data), 2)}')\n",
    "print(f'Доля контрольной выборки от всех данных: {np.round(len(control) / len(data), 2)}')"
   ]
  },
  {
   "cell_type": "markdown",
   "metadata": {
    "pycharm": {
     "name": "#%% md\n"
    }
   },
   "source": [
    "Посчитаем долю пользователей в тесте и в контроле, которые совершили целевое действие, то есть, оформили подписку."
   ]
  },
  {
   "cell_type": "code",
   "execution_count": 9,
   "metadata": {
    "pycharm": {
     "name": "#%%\n"
    }
   },
   "outputs": [
    {
     "name": "stdout",
     "output_type": "stream",
     "text": [
      "Конверсия в тестовой выборке: 0.119\n",
      "Конверсия в контрольной выборке: 0.116\n"
     ]
    }
   ],
   "source": [
    "print(f'''Конверсия в тестовой выборке: {np.round(treatment['converted'].mean(), 3)}''')\n",
    "print(f'''Конверсия в контрольной выборке: {np.round(control['converted'].mean(), 3)}''')"
   ]
  },
  {
   "cell_type": "markdown",
   "metadata": {
    "pycharm": {
     "name": "#%% md\n"
    }
   },
   "source": [
    "Применим t-test к данным. Так как мы знаем, что разделение было случайным, то наблюдения независимы, поэтому применяем t-test для независимых выборок."
   ]
  },
  {
   "cell_type": "code",
   "execution_count": 10,
   "metadata": {
    "pycharm": {
     "name": "#%%\n"
    }
   },
   "outputs": [
    {
     "name": "stdout",
     "output_type": "stream",
     "text": [
      "Результаты теста:\n",
      "p-value критерия: 0.026\n",
      "Отвергаем ли гипотезу — True\n"
     ]
    }
   ],
   "source": [
    "alpha = 0.05\n",
    "stat, pval = sps.ttest_ind(treatment['converted'], control['converted'], equal_var=False)\n",
    "\n",
    "print('Результаты теста:')\n",
    "print(f'''p-value критерия: {np.round(pval, 4)}''')\n",
    "print(f'''Отвергаем ли гипотезу — {pval < alpha}''')"
   ]
  },
  {
   "cell_type": "markdown",
   "metadata": {
    "pycharm": {
     "name": "#%% md\n"
    }
   },
   "source": [
    "Кажется, что различия в $0.3\\%$ незначительные, однако на выборках порядка 150 тыс. человек это довольно много. Посмотрим на разницу в количестве оформивших подписку пользователях в тесте и в контроле. "
   ]
  },
  {
   "cell_type": "code",
   "execution_count": 11,
   "metadata": {
    "pycharm": {
     "name": "#%%\n"
    }
   },
   "outputs": [
    {
     "name": "stdout",
     "output_type": "stream",
     "text": [
      "Кол-во оформивших подписку в тесте: 17514\n",
      "Кол-во оформивших подписку в контроле: 17116\n",
      "Разница в кол-ве оформивших подписку: 398\n"
     ]
    }
   ],
   "source": [
    "print(f'''Кол-во оформивших подписку в тесте: {treatment['converted'].sum()}''')\n",
    "print(f'''Кол-во оформивших подписку в контроле: {control['converted'].sum()}''')\n",
    "print(f'''Разница в кол-ве оформивших подписку: {treatment['converted'].sum() - control['converted'].sum()}''')"
   ]
  },
  {
   "cell_type": "markdown",
   "metadata": {
    "pycharm": {
     "name": "#%% md\n"
    }
   },
   "source": [
    "Построим также дов. интервал для прироста в конверсии в подписку."
   ]
  },
  {
   "cell_type": "code",
   "execution_count": 12,
   "metadata": {
    "ExecuteTime": {
     "end_time": "2025-05-11T16:45:30.589365Z",
     "start_time": "2025-05-11T16:45:30.544071Z"
    },
    "pycharm": {
     "name": "#%%\n"
    }
   },
   "outputs": [
    {
     "ename": "NameError",
     "evalue": "name 'confint_proportions_2indep' is not defined",
     "output_type": "error",
     "traceback": [
      "\u001B[1;31m---------------------------------------------------------------------------\u001B[0m",
      "\u001B[1;31mNameError\u001B[0m                                 Traceback (most recent call last)",
      "Cell \u001B[1;32mIn [12], line 1\u001B[0m\n\u001B[1;32m----> 1\u001B[0m left_bound, right_bound \u001B[38;5;241m=\u001B[39m \u001B[43mconfint_proportions_2indep\u001B[49m(treatment[\u001B[38;5;124m'\u001B[39m\u001B[38;5;124mconverted\u001B[39m\u001B[38;5;124m'\u001B[39m]\u001B[38;5;241m.\u001B[39msum(), \n\u001B[0;32m      2\u001B[0m                                                      treatment[\u001B[38;5;124m'\u001B[39m\u001B[38;5;124mconverted\u001B[39m\u001B[38;5;124m'\u001B[39m]\u001B[38;5;241m.\u001B[39mcount(),\n\u001B[0;32m      3\u001B[0m                                                      control[\u001B[38;5;124m'\u001B[39m\u001B[38;5;124mconverted\u001B[39m\u001B[38;5;124m'\u001B[39m]\u001B[38;5;241m.\u001B[39msum(), \n\u001B[0;32m      4\u001B[0m                                                      control[\u001B[38;5;124m'\u001B[39m\u001B[38;5;124mconverted\u001B[39m\u001B[38;5;124m'\u001B[39m]\u001B[38;5;241m.\u001B[39mcount(),\n\u001B[0;32m      5\u001B[0m                                                      method\u001B[38;5;241m=\u001B[39m\u001B[38;5;124m'\u001B[39m\u001B[38;5;124mwald\u001B[39m\u001B[38;5;124m'\u001B[39m)\n\u001B[0;32m      6\u001B[0m \u001B[38;5;28mprint\u001B[39m(\u001B[38;5;124mf\u001B[39m\u001B[38;5;124m'''\u001B[39m\u001B[38;5;124mДов. интервал для разности конверсий: \u001B[39m\u001B[38;5;132;01m{\u001B[39;00mnp\u001B[38;5;241m.\u001B[39mround(left_bound, \u001B[38;5;241m4\u001B[39m), np\u001B[38;5;241m.\u001B[39mround(right_bound, \u001B[38;5;241m4\u001B[39m)\u001B[38;5;132;01m}\u001B[39;00m\u001B[38;5;124m'''\u001B[39m)\n",
      "\u001B[1;31mNameError\u001B[0m: name 'confint_proportions_2indep' is not defined"
     ]
    }
   ],
   "source": [
    "left_bound, right_bound = confint_proportions_2indep(treatment['converted'].sum(), \n",
    "                                                     treatment['converted'].count(),\n",
    "                                                     control['converted'].sum(), \n",
    "                                                     control['converted'].count(),\n",
    "                                                     method='wald')\n",
    "print(f'''Дов. интервал для разности конверсий: {np.round(left_bound, 4), np.round(right_bound, 4)}''')"
   ]
  },
  {
   "cell_type": "markdown",
   "metadata": {
    "pycharm": {
     "name": "#%% md\n"
    }
   },
   "source": [
    "Оценим экономический эффект.\n",
    "\n",
    "Пусть в месяц на сайт заходит 300 тыс. пользователей, подписка стоит 200 рублей. Посчитаем в таком случае прирост в деньгах для компании."
   ]
  },
  {
   "cell_type": "code",
   "execution_count": 13,
   "metadata": {
    "pycharm": {
     "name": "#%%\n"
    }
   },
   "outputs": [
    {
     "name": "stdout",
     "output_type": "stream",
     "text": [
      "Дов. интервал для прироста в деньгах: (19000, 298000)\n"
     ]
    }
   ],
   "source": [
    "lb_money = 200 * 300_000 * left_bound\n",
    "rb_money = 200 * 300_000 * right_bound\n",
    "\n",
    "print(f'''Дов. интервал для прироста в деньгах: {int(np.round(lb_money, -3)), int(np.round(rb_money, -3))}''')"
   ]
  },
  {
   "cell_type": "markdown",
   "metadata": {
    "pycharm": {
     "name": "#%% md\n"
    }
   },
   "source": [
    "Группы А 200 клиентов (50 совершили покупку) 0.25\n",
    "Группы Б 180 клиентов (30 совершило покупку) 1.666\n",
    "\n",
    "d = P_A - P_Б\n"
   ]
  },
  {
   "cell_type": "code",
   "execution_count": 5,
   "metadata": {
    "ExecuteTime": {
     "end_time": "2025-05-11T16:38:09.101741Z",
     "start_time": "2025-05-11T16:38:09.082347Z"
    },
    "pycharm": {
     "name": "#%%\n"
    }
   },
   "outputs": [],
   "source": [
    "group_a = np.array([1] * 50 + [0] * 150)\n",
    "group_b = np.array([1] * 30 + [0] * 150)"
   ]
  },
  {
   "cell_type": "code",
   "execution_count": 6,
   "metadata": {
    "ExecuteTime": {
     "end_time": "2025-05-11T16:38:37.910509Z",
     "start_time": "2025-05-11T16:38:37.902386Z"
    },
    "pycharm": {
     "name": "#%%\n"
    }
   },
   "outputs": [],
   "source": [
    "B = 10000\n",
    "alpha = 0.05\n",
    "conf = 1 - alpha"
   ]
  },
  {
   "cell_type": "code",
   "execution_count": 7,
   "metadata": {
    "ExecuteTime": {
     "end_time": "2025-05-11T16:43:13.960565Z",
     "start_time": "2025-05-11T16:43:13.938507Z"
    },
    "pycharm": {
     "name": "#%%\n"
    }
   },
   "outputs": [],
   "source": [
    "def boot_ci(group1, group2, B, alpha):\n",
    "    np.random.seed(42)\n",
    "    \n",
    "    n1, n2 = len(group1), len(group2)\n",
    "    boot_dif = []\n",
    "    \n",
    "    for _ in range(B):\n",
    "        \n",
    "        sample1 = np.random.choice(group1, size=n1, replace=True)\n",
    "        sample2 = np.random.choice(group2, size=n2, replace=True)\n",
    "        \n",
    "        p1 = np.mean(sample1)\n",
    "        p2 = np.mean(sample2)\n",
    "        boot_dif.append(p1 - p2)\n",
    "    \n",
    "    lower = np.percentile(boot_dif, (alpha / 2) * 100)\n",
    "    upper = np.percentile(boot_dif, (1 - alpha / 2) * 100)\n",
    "    \n",
    "    return lower, upper, boot_dif"
   ]
  },
  {
   "cell_type": "code",
   "execution_count": 9,
   "metadata": {
    "ExecuteTime": {
     "end_time": "2025-05-11T16:43:54.302078Z",
     "start_time": "2025-05-11T16:43:53.340164Z"
    },
    "pycharm": {
     "name": "#%%\n"
    }
   },
   "outputs": [],
   "source": [
    "ci_lower, ci_upper, diff = boot_ci(group_a, group_b, B, alpha)"
   ]
  },
  {
   "cell_type": "code",
   "execution_count": 10,
   "metadata": {
    "ExecuteTime": {
     "end_time": "2025-05-11T16:44:18.618426Z",
     "start_time": "2025-05-11T16:44:18.583919Z"
    },
    "pycharm": {
     "name": "#%%\n"
    }
   },
   "outputs": [
    {
     "name": "stdout",
     "output_type": "stream",
     "text": [
      "0.08333333333333334\n"
     ]
    }
   ],
   "source": [
    "print(np.mean(group_a) - np.mean(group_b))"
   ]
  },
  {
   "cell_type": "code",
   "execution_count": 11,
   "metadata": {
    "ExecuteTime": {
     "end_time": "2025-05-11T16:44:35.081025Z",
     "start_time": "2025-05-11T16:44:35.064016Z"
    },
    "pycharm": {
     "name": "#%%\n"
    }
   },
   "outputs": [
    {
     "name": "stdout",
     "output_type": "stream",
     "text": [
      "0.0011111111111111183 0.16166666666666665\n"
     ]
    }
   ],
   "source": [
    "print(ci_lower, ci_upper)"
   ]
  },
  {
   "cell_type": "code",
   "execution_count": null,
   "metadata": {
    "pycharm": {
     "name": "#%%\n"
    }
   },
   "outputs": [],
   "source": []
  }
 ],
 "metadata": {
  "hide_input": false,
  "kernelspec": {
   "display_name": "Python 3 (ipykernel)",
   "language": "python",
   "name": "python3"
  },
  "language_info": {
   "codemirror_mode": {
    "name": "ipython",
    "version": 3
   },
   "file_extension": ".py",
   "mimetype": "text/x-python",
   "name": "python",
   "nbconvert_exporter": "python",
   "pygments_lexer": "ipython3",
   "version": "3.13.3"
  },
  "toc": {
   "base_numbering": 1,
   "nav_menu": {},
   "number_sections": true,
   "sideBar": true,
   "skip_h1_title": false,
   "title_cell": "Table of Contents",
   "title_sidebar": "Contents",
   "toc_cell": false,
   "toc_position": {},
   "toc_section_display": true,
   "toc_window_display": false
  }
 },
 "nbformat": 4,
 "nbformat_minor": 4
}