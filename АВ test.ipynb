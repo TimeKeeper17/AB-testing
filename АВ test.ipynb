{
 "cells": [
  {
   "cell_type": "code",
   "execution_count": 26,
   "id": "eb4a5b84",
   "metadata": {
    "pycharm": {
     "name": "#%%\n"
    }
   },
   "outputs": [],
   "source": [
    "import numpy as np\n",
    "import pandas as pd\n",
    "import seaborn as sns\n",
    "import matplotlib.pyplot as plt\n",
    "from scipy import stats\n",
    "from statsmodels.stats.power import TTestIndPower\n",
    "\n",
    "plt.style.use('ggplot')\n",
    "%matplotlib inline"
   ]
  },
  {
   "cell_type": "markdown",
   "id": "e476d884",
   "metadata": {
    "pycharm": {
     "name": "#%% md\n"
    }
   },
   "source": [
    "**Задача**"
   ]
  },
  {
   "cell_type": "markdown",
   "id": "8c19a09b",
   "metadata": {
    "pycharm": {
     "name": "#%% md\n"
    }
   },
   "source": [
    "**Задача**\n",
    "\n",
    "На сайте запущен А/В тест с целью увеличить доход.\n",
    "В приложенном excel файле вы найдете сырые данные по результатам эксперимента:\n",
    "\n",
    "user_id\n",
    "variant_name - тип выборки\n",
    "revenue - доход принесенный пользователем\n",
    "Проанализируйте результаты эксперимента и напишите свои рекомендации менеджеру\n"
   ]
  },
  {
   "cell_type": "code",
   "execution_count": 3,
   "id": "28f9c5a2",
   "metadata": {
    "pycharm": {
     "name": "#%%\n"
    }
   },
   "outputs": [
    {
     "name": "stderr",
     "output_type": "stream",
     "text": [
      "C:\\Users\\Василий\\PycharmProjects\\pythonProject5\\venv\\lib\\site-packages\\openpyxl\\worksheet\\_reader.py:329: UserWarning: Unknown extension is not supported and will be removed\n",
      "  warn(msg)\n"
     ]
    },
    {
     "data": {
      "text/plain": "      USER_ID VARIANT_NAME  REVENUE\n0         737      variant      0.0\n1        2423      control      0.0\n2        9411      control      0.0\n3        7311      control      0.0\n4        6174      variant      0.0\n...       ...          ...      ...\n9995     1981      control      0.0\n9996      502      variant      0.0\n9997     9214      variant      0.0\n9998     7741      control      0.0\n9999     9468      control      0.0\n\n[10000 rows x 3 columns]",
      "text/html": "<div>\n<style scoped>\n    .dataframe tbody tr th:only-of-type {\n        vertical-align: middle;\n    }\n\n    .dataframe tbody tr th {\n        vertical-align: top;\n    }\n\n    .dataframe thead th {\n        text-align: right;\n    }\n</style>\n<table border=\"1\" class=\"dataframe\">\n  <thead>\n    <tr style=\"text-align: right;\">\n      <th></th>\n      <th>USER_ID</th>\n      <th>VARIANT_NAME</th>\n      <th>REVENUE</th>\n    </tr>\n  </thead>\n  <tbody>\n    <tr>\n      <th>0</th>\n      <td>737</td>\n      <td>variant</td>\n      <td>0.0</td>\n    </tr>\n    <tr>\n      <th>1</th>\n      <td>2423</td>\n      <td>control</td>\n      <td>0.0</td>\n    </tr>\n    <tr>\n      <th>2</th>\n      <td>9411</td>\n      <td>control</td>\n      <td>0.0</td>\n    </tr>\n    <tr>\n      <th>3</th>\n      <td>7311</td>\n      <td>control</td>\n      <td>0.0</td>\n    </tr>\n    <tr>\n      <th>4</th>\n      <td>6174</td>\n      <td>variant</td>\n      <td>0.0</td>\n    </tr>\n    <tr>\n      <th>...</th>\n      <td>...</td>\n      <td>...</td>\n      <td>...</td>\n    </tr>\n    <tr>\n      <th>9995</th>\n      <td>1981</td>\n      <td>control</td>\n      <td>0.0</td>\n    </tr>\n    <tr>\n      <th>9996</th>\n      <td>502</td>\n      <td>variant</td>\n      <td>0.0</td>\n    </tr>\n    <tr>\n      <th>9997</th>\n      <td>9214</td>\n      <td>variant</td>\n      <td>0.0</td>\n    </tr>\n    <tr>\n      <th>9998</th>\n      <td>7741</td>\n      <td>control</td>\n      <td>0.0</td>\n    </tr>\n    <tr>\n      <th>9999</th>\n      <td>9468</td>\n      <td>control</td>\n      <td>0.0</td>\n    </tr>\n  </tbody>\n</table>\n<p>10000 rows × 3 columns</p>\n</div>"
     },
     "execution_count": 3,
     "metadata": {},
     "output_type": "execute_result"
    }
   ],
   "source": [
    "df = pd.read_excel(\"AB_Test_Results (2).xlsx\")\n",
    "\n",
    "df\n"
   ]
  },
  {
   "cell_type": "code",
   "execution_count": 4,
   "id": "667594ce",
   "metadata": {
    "pycharm": {
     "name": "#%%\n"
    }
   },
   "outputs": [
    {
     "name": "stdout",
     "output_type": "stream",
     "text": [
      "<class 'pandas.core.frame.DataFrame'>\n",
      "RangeIndex: 10000 entries, 0 to 9999\n",
      "Data columns (total 3 columns):\n",
      " #   Column        Non-Null Count  Dtype  \n",
      "---  ------        --------------  -----  \n",
      " 0   USER_ID       10000 non-null  int64  \n",
      " 1   VARIANT_NAME  10000 non-null  object \n",
      " 2   REVENUE       10000 non-null  float64\n",
      "dtypes: float64(1), int64(1), object(1)\n",
      "memory usage: 234.5+ KB\n"
     ]
    }
   ],
   "source": [
    "df.info()"
   ]
  },
  {
   "cell_type": "code",
   "execution_count": 5,
   "id": "0df9cab1",
   "metadata": {
    "pycharm": {
     "name": "#%%\n"
    }
   },
   "outputs": [
    {
     "data": {
      "text/plain": "USER_ID         0\nVARIANT_NAME    0\nREVENUE         0\ndtype: int64"
     },
     "execution_count": 5,
     "metadata": {},
     "output_type": "execute_result"
    }
   ],
   "source": [
    "df.isna().sum()"
   ]
  },
  {
   "cell_type": "markdown",
   "id": "c7ebccaf",
   "metadata": {
    "pycharm": {
     "name": "#%% md\n"
    }
   },
   "source": [
    "Проверим распределение посльзователей по группам"
   ]
  },
  {
   "cell_type": "code",
   "execution_count": 6,
   "id": "ba242ded",
   "metadata": {
    "pycharm": {
     "name": "#%%\n"
    }
   },
   "outputs": [
    {
     "data": {
      "text/plain": "      USER_ID  VARIANT_NAME\n1           3             2\n6          10             2\n11         18             2\n15         25             2\n23         40             2\n...       ...           ...\n6310     9978             2\n6311     9979             2\n6313     9982             2\n6321     9996             2\n6323    10000             2\n\n[1541 rows x 2 columns]",
      "text/html": "<div>\n<style scoped>\n    .dataframe tbody tr th:only-of-type {\n        vertical-align: middle;\n    }\n\n    .dataframe tbody tr th {\n        vertical-align: top;\n    }\n\n    .dataframe thead th {\n        text-align: right;\n    }\n</style>\n<table border=\"1\" class=\"dataframe\">\n  <thead>\n    <tr style=\"text-align: right;\">\n      <th></th>\n      <th>USER_ID</th>\n      <th>VARIANT_NAME</th>\n    </tr>\n  </thead>\n  <tbody>\n    <tr>\n      <th>1</th>\n      <td>3</td>\n      <td>2</td>\n    </tr>\n    <tr>\n      <th>6</th>\n      <td>10</td>\n      <td>2</td>\n    </tr>\n    <tr>\n      <th>11</th>\n      <td>18</td>\n      <td>2</td>\n    </tr>\n    <tr>\n      <th>15</th>\n      <td>25</td>\n      <td>2</td>\n    </tr>\n    <tr>\n      <th>23</th>\n      <td>40</td>\n      <td>2</td>\n    </tr>\n    <tr>\n      <th>...</th>\n      <td>...</td>\n      <td>...</td>\n    </tr>\n    <tr>\n      <th>6310</th>\n      <td>9978</td>\n      <td>2</td>\n    </tr>\n    <tr>\n      <th>6311</th>\n      <td>9979</td>\n      <td>2</td>\n    </tr>\n    <tr>\n      <th>6313</th>\n      <td>9982</td>\n      <td>2</td>\n    </tr>\n    <tr>\n      <th>6321</th>\n      <td>9996</td>\n      <td>2</td>\n    </tr>\n    <tr>\n      <th>6323</th>\n      <td>10000</td>\n      <td>2</td>\n    </tr>\n  </tbody>\n</table>\n<p>1541 rows × 2 columns</p>\n</div>"
     },
     "execution_count": 6,
     "metadata": {},
     "output_type": "execute_result"
    }
   ],
   "source": [
    "double = df.groupby('USER_ID', as_index=False).agg({'VARIANT_NAME': pd.Series.nunique}).query('VARIANT_NAME > 1')\n",
    "double \n"
   ]
  },
  {
   "cell_type": "markdown",
   "id": "4a94624c",
   "metadata": {
    "pycharm": {
     "name": "#%% md\n"
    }
   },
   "source": [
    "Посчитаем, сколько типов выборки встречается у каждого пользователя и избавимся от некорретных строк"
   ]
  },
  {
   "cell_type": "code",
   "execution_count": 7,
   "id": "39fd40ab",
   "metadata": {
    "pycharm": {
     "name": "#%%\n"
    }
   },
   "outputs": [
    {
     "data": {
      "text/plain": "      USER_ID VARIANT_NAME  REVENUE\n0           2      control      0.0\n1           2      control      0.0\n2           2      control      0.0\n3           4      variant      0.0\n4           5      variant      0.0\n...       ...          ...      ...\n6065     9992      control      0.0\n6066     9993      control      0.0\n6067     9995      variant      0.0\n6068     9995      variant      0.0\n6069     9998      control      0.0\n\n[6070 rows x 3 columns]",
      "text/html": "<div>\n<style scoped>\n    .dataframe tbody tr th:only-of-type {\n        vertical-align: middle;\n    }\n\n    .dataframe tbody tr th {\n        vertical-align: top;\n    }\n\n    .dataframe thead th {\n        text-align: right;\n    }\n</style>\n<table border=\"1\" class=\"dataframe\">\n  <thead>\n    <tr style=\"text-align: right;\">\n      <th></th>\n      <th>USER_ID</th>\n      <th>VARIANT_NAME</th>\n      <th>REVENUE</th>\n    </tr>\n  </thead>\n  <tbody>\n    <tr>\n      <th>0</th>\n      <td>2</td>\n      <td>control</td>\n      <td>0.0</td>\n    </tr>\n    <tr>\n      <th>1</th>\n      <td>2</td>\n      <td>control</td>\n      <td>0.0</td>\n    </tr>\n    <tr>\n      <th>2</th>\n      <td>2</td>\n      <td>control</td>\n      <td>0.0</td>\n    </tr>\n    <tr>\n      <th>3</th>\n      <td>4</td>\n      <td>variant</td>\n      <td>0.0</td>\n    </tr>\n    <tr>\n      <th>4</th>\n      <td>5</td>\n      <td>variant</td>\n      <td>0.0</td>\n    </tr>\n    <tr>\n      <th>...</th>\n      <td>...</td>\n      <td>...</td>\n      <td>...</td>\n    </tr>\n    <tr>\n      <th>6065</th>\n      <td>9992</td>\n      <td>control</td>\n      <td>0.0</td>\n    </tr>\n    <tr>\n      <th>6066</th>\n      <td>9993</td>\n      <td>control</td>\n      <td>0.0</td>\n    </tr>\n    <tr>\n      <th>6067</th>\n      <td>9995</td>\n      <td>variant</td>\n      <td>0.0</td>\n    </tr>\n    <tr>\n      <th>6068</th>\n      <td>9995</td>\n      <td>variant</td>\n      <td>0.0</td>\n    </tr>\n    <tr>\n      <th>6069</th>\n      <td>9998</td>\n      <td>control</td>\n      <td>0.0</td>\n    </tr>\n  </tbody>\n</table>\n<p>6070 rows × 3 columns</p>\n</div>"
     },
     "execution_count": 7,
     "metadata": {},
     "output_type": "execute_result"
    }
   ],
   "source": [
    "\n",
    "df = df[~df['USER_ID'].isin(double['USER_ID'])].sort_values('USER_ID').reset_index(drop=True)\n",
    "df\n"
   ]
  },
  {
   "cell_type": "markdown",
   "id": "5669d5e6",
   "metadata": {
    "pycharm": {
     "name": "#%% md\n"
    }
   },
   "source": [
    "Проверим на полные дубли"
   ]
  },
  {
   "cell_type": "code",
   "execution_count": 8,
   "id": "4dd4f291",
   "metadata": {
    "pycharm": {
     "name": "#%%\n"
    }
   },
   "outputs": [
    {
     "data": {
      "text/plain": "np.int64(1249)"
     },
     "execution_count": 8,
     "metadata": {},
     "output_type": "execute_result"
    }
   ],
   "source": [
    "df.duplicated().sum()"
   ]
  },
  {
   "cell_type": "code",
   "execution_count": 9,
   "id": "5b79ea69",
   "metadata": {
    "pycharm": {
     "name": "#%%\n"
    }
   },
   "outputs": [
    {
     "data": {
      "text/plain": "      USER_ID VARIANT_NAME  REVENUE\n0           2      control      0.0\n1           4      variant      0.0\n2           5      variant      0.0\n3           6      variant      0.0\n4           9      variant      0.0\n...       ...          ...      ...\n4816     9990      variant      0.0\n4817     9992      control      0.0\n4818     9993      control      0.0\n4819     9995      variant      0.0\n4820     9998      control      0.0\n\n[4821 rows x 3 columns]",
      "text/html": "<div>\n<style scoped>\n    .dataframe tbody tr th:only-of-type {\n        vertical-align: middle;\n    }\n\n    .dataframe tbody tr th {\n        vertical-align: top;\n    }\n\n    .dataframe thead th {\n        text-align: right;\n    }\n</style>\n<table border=\"1\" class=\"dataframe\">\n  <thead>\n    <tr style=\"text-align: right;\">\n      <th></th>\n      <th>USER_ID</th>\n      <th>VARIANT_NAME</th>\n      <th>REVENUE</th>\n    </tr>\n  </thead>\n  <tbody>\n    <tr>\n      <th>0</th>\n      <td>2</td>\n      <td>control</td>\n      <td>0.0</td>\n    </tr>\n    <tr>\n      <th>1</th>\n      <td>4</td>\n      <td>variant</td>\n      <td>0.0</td>\n    </tr>\n    <tr>\n      <th>2</th>\n      <td>5</td>\n      <td>variant</td>\n      <td>0.0</td>\n    </tr>\n    <tr>\n      <th>3</th>\n      <td>6</td>\n      <td>variant</td>\n      <td>0.0</td>\n    </tr>\n    <tr>\n      <th>4</th>\n      <td>9</td>\n      <td>variant</td>\n      <td>0.0</td>\n    </tr>\n    <tr>\n      <th>...</th>\n      <td>...</td>\n      <td>...</td>\n      <td>...</td>\n    </tr>\n    <tr>\n      <th>4816</th>\n      <td>9990</td>\n      <td>variant</td>\n      <td>0.0</td>\n    </tr>\n    <tr>\n      <th>4817</th>\n      <td>9992</td>\n      <td>control</td>\n      <td>0.0</td>\n    </tr>\n    <tr>\n      <th>4818</th>\n      <td>9993</td>\n      <td>control</td>\n      <td>0.0</td>\n    </tr>\n    <tr>\n      <th>4819</th>\n      <td>9995</td>\n      <td>variant</td>\n      <td>0.0</td>\n    </tr>\n    <tr>\n      <th>4820</th>\n      <td>9998</td>\n      <td>control</td>\n      <td>0.0</td>\n    </tr>\n  </tbody>\n</table>\n<p>4821 rows × 3 columns</p>\n</div>"
     },
     "execution_count": 9,
     "metadata": {},
     "output_type": "execute_result"
    }
   ],
   "source": [
    "df = df.drop_duplicates().reset_index(drop=True)\n",
    "df\n"
   ]
  },
  {
   "cell_type": "markdown",
   "id": "be46e1f7",
   "metadata": {
    "pycharm": {
     "name": "#%% md\n"
    }
   },
   "source": [
    "Из 10000 записей осталось 4821 (48%).\n",
    "\n",
    "**Первая рекомендация: проверить систему сплитования трафика.**\n",
    "\n",
    "Еще систему сплитирования можно на А/А тесте по метрикам"
   ]
  },
  {
   "cell_type": "code",
   "execution_count": 10,
   "id": "0ba5361c",
   "metadata": {
    "scrolled": true,
    "pycharm": {
     "name": "#%%\n"
    }
   },
   "outputs": [
    {
     "data": {
      "text/plain": "count    4821.000000\nmean        0.134802\nstd         2.999336\nmin         0.000000\n25%         0.000000\n50%         0.000000\n75%         0.000000\nmax       196.010000\nName: REVENUE, dtype: float64"
     },
     "execution_count": 10,
     "metadata": {},
     "output_type": "execute_result"
    }
   ],
   "source": [
    "df['REVENUE'].describe()"
   ]
  },
  {
   "cell_type": "code",
   "execution_count": 11,
   "id": "a5069194",
   "metadata": {
    "pycharm": {
     "name": "#%%\n"
    }
   },
   "outputs": [
    {
     "data": {
      "text/plain": "      USER_ID VARIANT_NAME  REVENUE\n0           2      control      0.0\n1           4      variant      0.0\n2           5      variant      0.0\n3           6      variant      0.0\n4           9      variant      0.0\n...       ...          ...      ...\n4816     9990      variant      0.0\n4817     9992      control      0.0\n4818     9993      control      0.0\n4819     9995      variant      0.0\n4820     9998      control      0.0\n\n[4820 rows x 3 columns]",
      "text/html": "<div>\n<style scoped>\n    .dataframe tbody tr th:only-of-type {\n        vertical-align: middle;\n    }\n\n    .dataframe tbody tr th {\n        vertical-align: top;\n    }\n\n    .dataframe thead th {\n        text-align: right;\n    }\n</style>\n<table border=\"1\" class=\"dataframe\">\n  <thead>\n    <tr style=\"text-align: right;\">\n      <th></th>\n      <th>USER_ID</th>\n      <th>VARIANT_NAME</th>\n      <th>REVENUE</th>\n    </tr>\n  </thead>\n  <tbody>\n    <tr>\n      <th>0</th>\n      <td>2</td>\n      <td>control</td>\n      <td>0.0</td>\n    </tr>\n    <tr>\n      <th>1</th>\n      <td>4</td>\n      <td>variant</td>\n      <td>0.0</td>\n    </tr>\n    <tr>\n      <th>2</th>\n      <td>5</td>\n      <td>variant</td>\n      <td>0.0</td>\n    </tr>\n    <tr>\n      <th>3</th>\n      <td>6</td>\n      <td>variant</td>\n      <td>0.0</td>\n    </tr>\n    <tr>\n      <th>4</th>\n      <td>9</td>\n      <td>variant</td>\n      <td>0.0</td>\n    </tr>\n    <tr>\n      <th>...</th>\n      <td>...</td>\n      <td>...</td>\n      <td>...</td>\n    </tr>\n    <tr>\n      <th>4816</th>\n      <td>9990</td>\n      <td>variant</td>\n      <td>0.0</td>\n    </tr>\n    <tr>\n      <th>4817</th>\n      <td>9992</td>\n      <td>control</td>\n      <td>0.0</td>\n    </tr>\n    <tr>\n      <th>4818</th>\n      <td>9993</td>\n      <td>control</td>\n      <td>0.0</td>\n    </tr>\n    <tr>\n      <th>4819</th>\n      <td>9995</td>\n      <td>variant</td>\n      <td>0.0</td>\n    </tr>\n    <tr>\n      <th>4820</th>\n      <td>9998</td>\n      <td>control</td>\n      <td>0.0</td>\n    </tr>\n  </tbody>\n</table>\n<p>4820 rows × 3 columns</p>\n</div>"
     },
     "execution_count": 11,
     "metadata": {},
     "output_type": "execute_result"
    }
   ],
   "source": [
    "#Дропнем выброс \n",
    "\n",
    "max = df.REVENUE.max()\n",
    "\n",
    "df = df[df['REVENUE'] < max]\n",
    "\n",
    "df\n",
    "\n"
   ]
  },
  {
   "cell_type": "code",
   "execution_count": 12,
   "id": "9f31ad36",
   "metadata": {
    "pycharm": {
     "name": "#%%\n"
    }
   },
   "outputs": [
    {
     "data": {
      "text/plain": "VARIANT_NAME\ncontrol    2413\nvariant    2407\nName: count, dtype: int64"
     },
     "execution_count": 12,
     "metadata": {},
     "output_type": "execute_result"
    }
   ],
   "source": [
    "df['VARIANT_NAME'].value_counts()\n"
   ]
  },
  {
   "cell_type": "code",
   "execution_count": 13,
   "id": "843cfb4c",
   "metadata": {
    "pycharm": {
     "name": "#%%\n"
    }
   },
   "outputs": [],
   "source": [
    "CONTROL = df[df['VARIANT_NAME']=='control']\n",
    "VARIANT = df[df['VARIANT_NAME']=='variant']"
   ]
  },
  {
   "cell_type": "code",
   "execution_count": 14,
   "id": "fee75452",
   "metadata": {
    "pycharm": {
     "name": "#%%\n"
    }
   },
   "outputs": [
    {
     "data": {
      "text/plain": "           USER_ID      REVENUE\ncount  2413.000000  2413.000000\nmean   5013.734770     0.113780\nstd    2909.131849     1.156753\nmin       2.000000     0.000000\n25%    2495.000000     0.000000\n50%    5011.000000     0.000000\n75%    7613.000000     0.000000\nmax    9998.000000    29.320000",
      "text/html": "<div>\n<style scoped>\n    .dataframe tbody tr th:only-of-type {\n        vertical-align: middle;\n    }\n\n    .dataframe tbody tr th {\n        vertical-align: top;\n    }\n\n    .dataframe thead th {\n        text-align: right;\n    }\n</style>\n<table border=\"1\" class=\"dataframe\">\n  <thead>\n    <tr style=\"text-align: right;\">\n      <th></th>\n      <th>USER_ID</th>\n      <th>REVENUE</th>\n    </tr>\n  </thead>\n  <tbody>\n    <tr>\n      <th>count</th>\n      <td>2413.000000</td>\n      <td>2413.000000</td>\n    </tr>\n    <tr>\n      <th>mean</th>\n      <td>5013.734770</td>\n      <td>0.113780</td>\n    </tr>\n    <tr>\n      <th>std</th>\n      <td>2909.131849</td>\n      <td>1.156753</td>\n    </tr>\n    <tr>\n      <th>min</th>\n      <td>2.000000</td>\n      <td>0.000000</td>\n    </tr>\n    <tr>\n      <th>25%</th>\n      <td>2495.000000</td>\n      <td>0.000000</td>\n    </tr>\n    <tr>\n      <th>50%</th>\n      <td>5011.000000</td>\n      <td>0.000000</td>\n    </tr>\n    <tr>\n      <th>75%</th>\n      <td>7613.000000</td>\n      <td>0.000000</td>\n    </tr>\n    <tr>\n      <th>max</th>\n      <td>9998.000000</td>\n      <td>29.320000</td>\n    </tr>\n  </tbody>\n</table>\n</div>"
     },
     "execution_count": 14,
     "metadata": {},
     "output_type": "execute_result"
    }
   ],
   "source": [
    "CONTROL.describe()"
   ]
  },
  {
   "cell_type": "code",
   "execution_count": 15,
   "id": "228c8121",
   "metadata": {
    "pycharm": {
     "name": "#%%\n"
    }
   },
   "outputs": [
    {
     "data": {
      "text/plain": "           USER_ID      REVENUE\ncount  2407.000000  2407.000000\nmean   4968.836311     0.074499\nstd    2894.149437     0.854413\nmin       4.000000     0.000000\n25%    2437.000000     0.000000\n50%    4951.000000     0.000000\n75%    7383.000000     0.000000\nmax    9995.000000    23.040000",
      "text/html": "<div>\n<style scoped>\n    .dataframe tbody tr th:only-of-type {\n        vertical-align: middle;\n    }\n\n    .dataframe tbody tr th {\n        vertical-align: top;\n    }\n\n    .dataframe thead th {\n        text-align: right;\n    }\n</style>\n<table border=\"1\" class=\"dataframe\">\n  <thead>\n    <tr style=\"text-align: right;\">\n      <th></th>\n      <th>USER_ID</th>\n      <th>REVENUE</th>\n    </tr>\n  </thead>\n  <tbody>\n    <tr>\n      <th>count</th>\n      <td>2407.000000</td>\n      <td>2407.000000</td>\n    </tr>\n    <tr>\n      <th>mean</th>\n      <td>4968.836311</td>\n      <td>0.074499</td>\n    </tr>\n    <tr>\n      <th>std</th>\n      <td>2894.149437</td>\n      <td>0.854413</td>\n    </tr>\n    <tr>\n      <th>min</th>\n      <td>4.000000</td>\n      <td>0.000000</td>\n    </tr>\n    <tr>\n      <th>25%</th>\n      <td>2437.000000</td>\n      <td>0.000000</td>\n    </tr>\n    <tr>\n      <th>50%</th>\n      <td>4951.000000</td>\n      <td>0.000000</td>\n    </tr>\n    <tr>\n      <th>75%</th>\n      <td>7383.000000</td>\n      <td>0.000000</td>\n    </tr>\n    <tr>\n      <th>max</th>\n      <td>9995.000000</td>\n      <td>23.040000</td>\n    </tr>\n  </tbody>\n</table>\n</div>"
     },
     "execution_count": 15,
     "metadata": {},
     "output_type": "execute_result"
    }
   ],
   "source": [
    "VARIANT.describe()"
   ]
  },
  {
   "cell_type": "markdown",
   "id": "c21e2a80",
   "metadata": {
    "pycharm": {
     "name": "#%% md\n"
    }
   },
   "source": [
    "Видно, что в VARINAT среднее поменьше, но там и выборка поменьше. Да и вообще среднее неустойчиво к выбросам"
   ]
  },
  {
   "cell_type": "code",
   "execution_count": 16,
   "id": "f3801b06",
   "metadata": {
    "pycharm": {
     "name": "#%%\n"
    }
   },
   "outputs": [
    {
     "name": "stderr",
     "output_type": "stream",
     "text": [
      "C:\\Users\\Василий\\AppData\\Local\\Temp\\ipykernel_3664\\642918864.py:1: SettingWithCopyWarning: \n",
      "A value is trying to be set on a copy of a slice from a DataFrame.\n",
      "Try using .loc[row_indexer,col_indexer] = value instead\n",
      "\n",
      "See the caveats in the documentation: https://pandas.pydata.org/pandas-docs/stable/user_guide/indexing.html#returning-a-view-versus-a-copy\n",
      "  df['conversion'] = df['REVENUE'].apply(lambda x: int(x>0))\n"
     ]
    },
    {
     "data": {
      "text/plain": "conversion       0   1   All\nVARIANT_NAME                \ncontrol       2360  53  2413\nvariant       2364  43  2407\nAll           4724  96  4820",
      "text/html": "<div>\n<style scoped>\n    .dataframe tbody tr th:only-of-type {\n        vertical-align: middle;\n    }\n\n    .dataframe tbody tr th {\n        vertical-align: top;\n    }\n\n    .dataframe thead th {\n        text-align: right;\n    }\n</style>\n<table border=\"1\" class=\"dataframe\">\n  <thead>\n    <tr style=\"text-align: right;\">\n      <th>conversion</th>\n      <th>0</th>\n      <th>1</th>\n      <th>All</th>\n    </tr>\n    <tr>\n      <th>VARIANT_NAME</th>\n      <th></th>\n      <th></th>\n      <th></th>\n    </tr>\n  </thead>\n  <tbody>\n    <tr>\n      <th>control</th>\n      <td>2360</td>\n      <td>53</td>\n      <td>2413</td>\n    </tr>\n    <tr>\n      <th>variant</th>\n      <td>2364</td>\n      <td>43</td>\n      <td>2407</td>\n    </tr>\n    <tr>\n      <th>All</th>\n      <td>4724</td>\n      <td>96</td>\n      <td>4820</td>\n    </tr>\n  </tbody>\n</table>\n</div>"
     },
     "execution_count": 16,
     "metadata": {},
     "output_type": "execute_result"
    }
   ],
   "source": [
    "df['conversion'] = df['REVENUE'].apply(lambda x: int(x>0))\n",
    "df.pivot_table(index='VARIANT_NAME',\n",
    "               columns='conversion',\n",
    "               values='USER_ID',\n",
    "               aggfunc='count',\n",
    "               margins=True)"
   ]
  },
  {
   "cell_type": "code",
   "execution_count": 17,
   "id": "f23f7047",
   "metadata": {
    "pycharm": {
     "name": "#%%\n"
    }
   },
   "outputs": [],
   "source": [
    "A = df.query('VARIANT_NAME == \"control\"')\n",
    "B = df.query('VARIANT_NAME == \"variant\"')\n",
    "n1, n2 = A.shape[0], B.shape[0]\n",
    "m1, m2 = A[A['conversion']==1].shape[0], B[B['conversion']==1].shape[0]"
   ]
  },
  {
   "cell_type": "code",
   "execution_count": 18,
   "id": "9f3d172b",
   "metadata": {
    "pycharm": {
     "name": "#%%\n"
    }
   },
   "outputs": [
    {
     "data": {
      "text/plain": "(0.021964359718193122, 0.017864561695056087)"
     },
     "execution_count": 18,
     "metadata": {},
     "output_type": "execute_result"
    }
   ],
   "source": [
    "p1, p2 = m1/n1, m2/n2\n",
    "p1, p2"
   ]
  },
  {
   "cell_type": "code",
   "execution_count": 19,
   "id": "5e1a96e5",
   "metadata": {
    "scrolled": true,
    "pycharm": {
     "name": "#%%\n"
    }
   },
   "outputs": [
    {
     "data": {
      "text/plain": "<Figure size 500x500 with 1 Axes>",
      "image/png": "[encoded data removed]"
     },
     "metadata": {},
     "output_type": "display_data"
    }
   ],
   "source": [
    "plt.figure(figsize=(5, 5))\n",
    "sns.histplot(data=df, x='REVENUE', bins=20, hue='VARIANT_NAME');"
   ]
  },
  {
   "cell_type": "code",
   "execution_count": 20,
   "id": "b519b662",
   "metadata": {
    "pycharm": {
     "name": "#%%\n"
    }
   },
   "outputs": [
    {
     "data": {
      "text/plain": "<Axes: xlabel='REVENUE', ylabel='Count'>"
     },
     "execution_count": 20,
     "metadata": {},
     "output_type": "execute_result"
    },
    {
     "data": {
      "text/plain": "<Figure size 500x500 with 1 Axes>",
      "image/png": "[encoded data removed]"
     },
     "metadata": {},
     "output_type": "display_data"
    }
   ],
   "source": [
    "plt.figure(figsize=(5, 5))\n",
    "sns.histplot(data=df[df['conversion']==1], x='REVENUE', bins=20, hue='VARIANT_NAME')"
   ]
  },
  {
   "cell_type": "code",
   "execution_count": 21,
   "id": "92593991",
   "metadata": {
    "pycharm": {
     "name": "#%%\n"
    }
   },
   "outputs": [
    {
     "data": {
      "text/plain": "<Figure size 500x500 with 1 Axes>",
      "image/png": "[encoded data removed]"
     },
     "metadata": {},
     "output_type": "display_data"
    }
   ],
   "source": [
    "plt.figure(figsize=(5, 5))\n",
    "sns.boxplot(data=df[df['conversion']==1], y='REVENUE', x='VARIANT_NAME');"
   ]
  },
  {
   "cell_type": "markdown",
   "id": "61830767",
   "metadata": {
    "pycharm": {
     "name": "#%% md\n"
    }
   },
   "source": [
    "Данных очень мало, распределения ненормальные, много выбросов. По графикам видно, что группа B хуже, чем группа А.\n",
    "Низкая конверсия в покупку, причем в тестовой группе метрика ниже, чем в контрольной.\n",
    "\n",
    "**Вторая рекомендация: проверить длительность теста, учесть окно конверсии.**\n",
    "\n",
    "Для проверки нормальности используем критерий Шапиро-Уилка."
   ]
  },
  {
   "cell_type": "code",
   "execution_count": 22,
   "id": "4acef077",
   "metadata": {
    "pycharm": {
     "name": "#%%\n"
    }
   },
   "outputs": [
    {
     "name": "stdout",
     "output_type": "stream",
     "text": [
      "Distribution is not normal\n"
     ]
    },
    {
     "name": "stderr",
     "output_type": "stream",
     "text": [
      "C:\\Users\\Василий\\AppData\\Local\\Temp\\ipykernel_3664\\704527691.py:3: DeprecationWarning: In future, it will be an error for 'np.bool' scalars to be interpreted as an index\n",
      "  print('Distribution is ' + ['','not'][pvalue < alpha] + ' normal')\n"
     ]
    }
   ],
   "source": [
    "alpha = 0.05\n",
    "pvalue = stats.shapiro(df['REVENUE'])[1]\n",
    "print('Distribution is ' + ['','not'][pvalue < alpha] + ' normal')"
   ]
  },
  {
   "cell_type": "markdown",
   "id": "adaf7aba",
   "metadata": {
    "pycharm": {
     "name": "#%% md\n"
    }
   },
   "source": [
    "Подтвердили предположение о ненормальности данных.\n",
    "Т.к. распределение ненормальное, в каждой группе мало данных и существуют выбросы, то используем критерий Манна-Уитни."
   ]
  },
  {
   "cell_type": "code",
   "execution_count": 23,
   "id": "7daae51f",
   "metadata": {
    "pycharm": {
     "name": "#%%\n"
    }
   },
   "outputs": [
    {
     "data": {
      "text/plain": "MannwhitneyuResult(statistic=np.float64(2916061.0), pvalue=np.float64(0.3040583063744938))"
     },
     "execution_count": 23,
     "metadata": {},
     "output_type": "execute_result"
    }
   ],
   "source": [
    "stats.mannwhitneyu(x=A['REVENUE'].values, y=B['REVENUE'].values)"
   ]
  },
  {
   "cell_type": "markdown",
   "id": "97c16561",
   "metadata": {
    "pycharm": {
     "name": "#%% md\n"
    }
   },
   "source": [
    "p-value больше уровня значимости \n",
    "0.05, следовательно, статистически значимой разницы между группами нет.\n",
    "\n",
    "Посчитаем, достаточна ли была мощность наших выборок, чтобы анализировать результаты."
   ]
  },
  {
   "cell_type": "code",
   "execution_count": 24,
   "id": "9885baf7",
   "metadata": {
    "pycharm": {
     "name": "#%%\n"
    }
   },
   "outputs": [],
   "source": [
    "M1, M2 = A['REVENUE'].mean(), B['REVENUE'].mean()\n",
    "D1, D2 = A['REVENUE'].var(), B['REVENUE'].var()"
   ]
  },
  {
   "cell_type": "code",
   "execution_count": 25,
   "id": "b53a86c9",
   "metadata": {
    "pycharm": {
     "name": "#%%\n"
    }
   },
   "outputs": [
    {
     "data": {
      "text/plain": "np.float64(0.03862094910812437)"
     },
     "execution_count": 25,
     "metadata": {},
     "output_type": "execute_result"
    }
   ],
   "source": [
    "effect_size = (M1-M2)/np.sqrt(((n1-1)*D1 + (n2-1)*D2)/(n1+n2-2))\n",
    "effect_size"
   ]
  },
  {
   "cell_type": "code",
   "execution_count": 27,
   "id": "674a3722",
   "metadata": {
    "pycharm": {
     "name": "#%%\n"
    }
   },
   "outputs": [
    {
     "data": {
      "text/plain": "np.float64(0.26825032266638166)"
     },
     "execution_count": 27,
     "metadata": {},
     "output_type": "execute_result"
    }
   ],
   "source": [
    "analysis = TTestIndPower()\n",
    "analysis.solve_power(effect_size=effect_size, alpha=alpha, power=None, nobs1=n1, ratio=n2/n1)"
   ]
  },
  {
   "cell_type": "markdown",
   "id": "9ce1385d",
   "metadata": {
    "pycharm": {
     "name": "#%% md\n"
    }
   },
   "source": [
    "Мощность теста в районе 29%. С такой мощностью мы не можем быть уверены в результатах теста. Мы могли не получить статистически значимую разницу, т.к. у нас недостаточный объем выборки.\n",
    "Третья рекомендация: рассчитать требуемый размер выборки и избегать преждевременной остановки теста.\n",
    "\n",
    "В итоге рекомендуется:\n",
    "\n",
    "1. Не вводить изменения, на которых происходило тестирование группы B.\n",
    "2. Уточнить дизайн А/В теста и запустить его заново."
   ]
  },
  {
   "cell_type": "code",
   "execution_count": null,
   "outputs": [],
   "source": [],
   "metadata": {
    "collapsed": false,
    "pycharm": {
     "name": "#%%\n"
    }
   }
  }
 ],
 "metadata": {
  "kernelspec": {
   "display_name": "Python 3 (ipykernel)",
   "language": "python",
   "name": "python3"
  },
  "language_info": {
   "codemirror_mode": {
    "name": "ipython",
    "version": 3
   },
   "file_extension": ".py",
   "mimetype": "text/x-python",
   "name": "python",
   "nbconvert_exporter": "python",
   "pygments_lexer": "ipython3",
   "version": "3.9.12"
  }
 },
 "nbformat": 4,
 "nbformat_minor": 5
}